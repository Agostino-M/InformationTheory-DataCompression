{
 "cells": [
  {
   "cell_type": "markdown",
   "metadata": {},
   "source": [
    "### Utils"
   ]
  },
  {
   "cell_type": "code",
   "execution_count": 1,
   "metadata": {},
   "outputs": [],
   "source": [
    "import math\n",
    "from pprint import pprint\n",
    "from collections import Counter\n",
    "\n",
    "class bcolors:\n",
    "    HEADER = '\\033[95m'\n",
    "    OKBLUE = '\\033[94m'\n",
    "    OKCYAN = '\\033[96m'\n",
    "    OKGREEN = '\\033[92m'\n",
    "    WARNING = '\\033[93m'\n",
    "    FAIL = '\\033[91m'\n",
    "    ENDC = '\\033[0m'\n",
    "    BOLD = '\\033[1m'\n",
    "    UNDERLINE = '\\033[4m'\n",
    "\n",
    "def sort_set(s):\n",
    "    return sorted(s, key=lambda x: (len(x), x))"
   ]
  },
  {
   "cell_type": "code",
   "execution_count": 2,
   "metadata": {},
   "outputs": [],
   "source": [
    "def find_codings(code: set, input_string: str,):\n",
    "    \"\"\"\n",
    "    Find all valid sequences of codewords that can be used to encode the input string.\n",
    "\n",
    "    Args:\n",
    "        code: set of codewords\n",
    "        input_string: input string\n",
    "        current_coding: current partial coding\n",
    "\n",
    "    Returns:\n",
    "        list of all valid codings\n",
    "    \"\"\"\n",
    "\n",
    "    def run(code: set, input_string: str, current_coding: list = None):\n",
    "        results = []\n",
    "        if not input_string:\n",
    "            results.append(\" \".join(current_coding))\n",
    "            return results\n",
    "\n",
    "        for word in code:\n",
    "            if input_string.startswith(word):\n",
    "                current_coding.append(word)\n",
    "                results.extend(run(code, input_string[len(word) :], current_coding))\n",
    "                current_coding.pop()\n",
    "\n",
    "        return results\n",
    "    \n",
    "    return run(code, input_string, current_coding=[])"
   ]
  },
  {
   "cell_type": "markdown",
   "metadata": {},
   "source": [
    "### Write a program in Python that applies the Sardinas-Patterson algorithm and returns the type of code received as input. You should distinguish the 3 different halt conditions."
   ]
  },
  {
   "cell_type": "code",
   "execution_count": 3,
   "metadata": {},
   "outputs": [],
   "source": [
    "def get_suffixes(code: set, s: dict):\n",
    "    \"\"\"Starting from two sets \"code\" and \"s\", representing S0 and Si, return the suffixes found\"\"\"\n",
    "    suffixes = {}\n",
    "    for s_word, s_seq in s.items():\n",
    "        # Filter prefix/suffix in alphabet code\n",
    "        prefix_codewords = [c_word for c_word in code if (c_word.startswith(s_word) or s_word.startswith(c_word) and c_word != s_word)]\n",
    "\n",
    "        # Set c_word as the codewords in S0 and s_word as the codewords in Si\n",
    "        for c_word in prefix_codewords:\n",
    "            # Check if c is a prefix of s\n",
    "            if c_word.startswith(s_word):\n",
    "                suffix = c_word[len(s_word) :]\n",
    "                if suffix:\n",
    "                    suffixes[suffix] = sorted([c_word] + s_seq, key=lambda x: (x))\n",
    "            # And vice versa\n",
    "            elif s_word.startswith(c_word):\n",
    "                suffix = s_word[len(c_word) :]\n",
    "                if suffix:\n",
    "                    suffixes[suffix] = sorted([c_word] + s_seq, key=lambda x: (x))\n",
    "\n",
    "    return dict(sorted(suffixes.items()))\n",
    "\n",
    "\n",
    "def is_uniquely_decodable(code: set, debug: bool = False):\n",
    "    \"\"\"Function that returns:\n",
    "        - a bool if code is uniquely decodable\n",
    "        - a sequence that prove the code is not UD\n",
    "        - the witness of interection between S0 and Si\n",
    "    \"\"\"\n",
    "    S0 = {word: [word] for word in code}\n",
    "    all_S = [S0]\n",
    "\n",
    "    i = 0\n",
    "    max_tries = 1000\n",
    "    for i in range(max_tries):\n",
    "        Si = get_suffixes(code, all_S[i])\n",
    "        print(f\"S{i+1}: {sort_set(Si.keys()) if len(Si) > 0 else '[]'}\")\n",
    "\n",
    "        if debug:\n",
    "            print(f\"paths: {Si}\")\n",
    "\n",
    "        for suffix, seq in Si.items():\n",
    "            if suffix in S0:\n",
    "                print(\"Halt 1\")\n",
    "                ambiguous_sequence = seq[-1] + suffix\n",
    "                return False, ambiguous_sequence, S0[suffix]  # Not uniquely decodable\n",
    "\n",
    "        if not Si:\n",
    "            print(\"Halt 2\")\n",
    "            return True, all_S, Si  # Uniquely decodable\n",
    "\n",
    "        if any(Si.keys() == prev_suffixes.keys() for prev_suffixes in all_S):\n",
    "            print(\"Halt 3\")\n",
    "            return True, all_S, Si  # Uniquely decodable\n",
    "\n",
    "        all_S.append(Si)\n",
    "\n",
    "    raise RuntimeError(\"Error, max tries reached\")"
   ]
  },
  {
   "cell_type": "markdown",
   "metadata": {},
   "source": [
    "### Tests"
   ]
  },
  {
   "cell_type": "code",
   "execution_count": 4,
   "metadata": {},
   "outputs": [
    {
     "name": "stdout",
     "output_type": "stream",
     "text": [
      "-------------------------------------\n",
      "E: ['2', '01', '102', '0011', '0120']\n",
      "S1: ['20']\n",
      "S2: ['0']\n",
      "S3: ['1', '011', '120']\n",
      "S4: ['1', '02']\n",
      "S5: ['02']\n",
      "S6: []\n",
      "Halt 2\n",
      "\u001b[92m Code E is Uniquely Decodable. \u001b[0m\n"
     ]
    }
   ],
   "source": [
    "code = {\"01\", \"0011\", \"2\", \"102\", \"0120\"}\n",
    "name = \"E\"\n",
    "print(\"-\" * len(f\"{name}: {code}\"))\n",
    "print(f\"{name}: {sort_set(code)}\")\n",
    "is_ud, seq1, intersection = is_uniquely_decodable(code)\n",
    "\n",
    "if not is_ud:\n",
    "    print(f\"{bcolors.FAIL} Code {name} is Not Uniquely Decodable.\")\n",
    "    print(f\"  Witness: {intersection}\")\n",
    "    print(f\"Ambiguous sequence that proves not uniqueness: {seq1}\")\n",
    "\n",
    "    print(f\"  {find_codings(code, seq1)} {bcolors.ENDC}\")\n",
    "else:\n",
    "    print(f\"{bcolors.OKGREEN} Code {name} is Uniquely Decodable. {bcolors.ENDC}\")"
   ]
  },
  {
   "cell_type": "code",
   "execution_count": 5,
   "metadata": {},
   "outputs": [
    {
     "name": "stdout",
     "output_type": "stream",
     "text": [
      "----------------------------\n",
      "A0: ['00', '01', '10', '11']\n",
      "S1: []\n",
      "Halt 2\n",
      "\u001b[92m Code A0 is Uniquely Decodable. \u001b[0m\n"
     ]
    }
   ],
   "source": [
    "code = {\"00\", \"01\", \"10\", \"11\"}\n",
    "name = \"A0\"\n",
    "print(\"-\" * len(f\"{name}: {code}\"))\n",
    "print(f\"{name}: {sort_set(code)}\")\n",
    "is_ud, seq1, intersection = is_uniquely_decodable(code)\n",
    "\n",
    "if not is_ud:\n",
    "    print(f\"{bcolors.FAIL} Code {name} is Not Uniquely Decodable.\")\n",
    "    print(f\"  Witness: {intersection}\")\n",
    "    print(f\"Ambiguous sequence that proves not uniqueness: {seq1}\")\n",
    "\n",
    "    print(f\"  {find_codings(code, seq1)} {bcolors.ENDC}\")\n",
    "else:\n",
    "    print(f\"{bcolors.OKGREEN} Code {name} is Uniquely Decodable. {bcolors.ENDC}\")\n"
   ]
  },
  {
   "cell_type": "code",
   "execution_count": 6,
   "metadata": {},
   "outputs": [
    {
     "name": "stdout",
     "output_type": "stream",
     "text": [
      "------------------------------\n",
      "B0: ['0', '10', '110', '1110']\n",
      "S1: []\n",
      "Halt 2\n",
      "\u001b[92m Code B0 is Uniquely Decodable. \u001b[0m\n"
     ]
    }
   ],
   "source": [
    "code = {\"0\", \"10\", \"110\", \"1110\"}\n",
    "name = \"B0\"\n",
    "print(\"-\" * len(f\"{name}: {code}\"))\n",
    "print(f\"{name}: {sort_set(code)}\")\n",
    "is_ud, seq1, intersection = is_uniquely_decodable(code)\n",
    "\n",
    "if not is_ud:\n",
    "    print(f\"{bcolors.FAIL} Code {name} is Not Uniquely Decodable.\")\n",
    "    print(f\"  Witness: {intersection}\")\n",
    "    print(f\"Ambiguous sequence that proves not uniqueness: {seq1}\")\n",
    "\n",
    "    print(f\"  {find_codings(code, seq1)} {bcolors.ENDC}\")\n",
    "else:\n",
    "    print(f\"{bcolors.OKGREEN} Code {name} is Uniquely Decodable. {bcolors.ENDC}\")\n"
   ]
  },
  {
   "cell_type": "code",
   "execution_count": 16,
   "metadata": {},
   "outputs": [
    {
     "name": "stdout",
     "output_type": "stream",
     "text": [
      "--------------------------\n",
      "D0: ['0', '1', '01', '10']\n",
      "S1: ['0', '1']\n",
      "paths: {'0': ['1', '10'], '1': ['0', '01']}\n",
      "Halt 1\n",
      "\u001b[91m Code D0 is Not Uniquely Decodable.\n",
      "  Witness: ['0']\n",
      "Ambiguous sequence that proves not uniqueness: 100\n",
      "  ['1 0 0', '10 0'] \u001b[0m\n"
     ]
    }
   ],
   "source": [
    "code = {\"0\", \"01\", \"10\", \"1\"}\n",
    "name = \"D0\"\n",
    "print(\"-\" * len(f\"{name}: {code}\"))\n",
    "print(f\"{name}: {sort_set(code)}\")\n",
    "is_ud, seq1, intersection = is_uniquely_decodable(code, True)\n",
    "\n",
    "if not is_ud:\n",
    "    print(f\"{bcolors.FAIL} Code {name} is Not Uniquely Decodable.\")\n",
    "    print(f\"  Witness: {intersection}\")\n",
    "    print(f\"Ambiguous sequence that proves not uniqueness: {seq1}\")\n",
    "\n",
    "    print(f\"  {find_codings(code, seq1)} {bcolors.ENDC}\")\n",
    "else:\n",
    "    print(f\"{bcolors.OKGREEN} Code {name} is Uniquely Decodable. {bcolors.ENDC}\")"
   ]
  },
  {
   "cell_type": "code",
   "execution_count": 8,
   "metadata": {},
   "outputs": [
    {
     "name": "stdout",
     "output_type": "stream",
     "text": [
      "---------------------\n",
      "UD: ['0', '01', '11']\n",
      "S1: ['1']\n",
      "S2: ['1']\n",
      "Halt 3\n",
      "\u001b[92m Code UD is Uniquely Decodable. \u001b[0m\n"
     ]
    }
   ],
   "source": [
    "code = {\"0\", \"01\", \"11\"}\n",
    "name = \"UD\"\n",
    "print(\"-\" * len(f\"{name}: {code}\"))\n",
    "print(f\"{name}: {sort_set(code)}\")\n",
    "is_ud, seq1, intersection = is_uniquely_decodable(code)\n",
    "\n",
    "if not is_ud:\n",
    "    print(f\"{bcolors.FAIL} Code {name} is Not Uniquely Decodable.\")\n",
    "    print(f\"  Witness: {intersection}\")\n",
    "    print(f\"Ambiguous sequence that proves not uniqueness: {seq1}\")\n",
    "\n",
    "    print(f\"  {find_codings(code, seq1)} {bcolors.ENDC}\")\n",
    "else:\n",
    "    print(f\"{bcolors.OKGREEN} Code {name} is Uniquely Decodable. {bcolors.ENDC}\")"
   ]
  },
  {
   "cell_type": "markdown",
   "metadata": {},
   "source": [
    "### Apply the algorithm to test whether C={012, 0123, 4, 310, 1024, 2402, 2401, 4013} is UD."
   ]
  },
  {
   "cell_type": "code",
   "execution_count": 9,
   "metadata": {},
   "outputs": [
    {
     "name": "stdout",
     "output_type": "stream",
     "text": [
      "---------------------------------------------------------------\n",
      "C1: ['4', '012', '310', '0123', '1024', '2401', '2402', '4013']\n",
      "S1: ['3', '013']\n",
      "S2: ['10']\n",
      "S3: ['24']\n",
      "S4: ['01', '02']\n",
      "S5: ['2', '23']\n",
      "S6: ['401', '402']\n",
      "S7: ['3', '01', '02']\n",
      "S8: ['2', '10', '23']\n",
      "S9: ['24', '401', '402']\n",
      "S10: ['3', '01', '02']\n",
      "Halt 3\n",
      "\u001b[92m Code C1 is Uniquely Decodable. \u001b[0m\n"
     ]
    }
   ],
   "source": [
    "code = {\"012\", \"0123\", \"4\", \"310\", \"1024\", \"2402\", \"2401\", \"4013\"}\n",
    "name = \"C1\"\n",
    "print(\"-\" * len(f\"{name}: {code}\"))\n",
    "print(f\"{name}: {sort_set(code)}\")\n",
    "is_ud, seq1, intersection = is_uniquely_decodable(code)\n",
    "\n",
    "if not is_ud:\n",
    "    print(f\"{bcolors.FAIL} Code {name} is Not Uniquely Decodable.\")\n",
    "    print(f\"  Witness: {intersection}\")\n",
    "    print(f\"Ambiguous sequence that proves not uniqueness: {seq1}\")\n",
    "\n",
    "    print(f\"  {find_codings(code, seq1)} {bcolors.ENDC}\")\n",
    "else:\n",
    "    print(f\"{bcolors.OKGREEN} Code {name} is Uniquely Decodable. {bcolors.ENDC}\")"
   ]
  },
  {
   "cell_type": "markdown",
   "metadata": {},
   "source": [
    "### Apply the algorithm to verify which of the following codes are UD"
   ]
  },
  {
   "cell_type": "code",
   "execution_count": 15,
   "metadata": {},
   "outputs": [
    {
     "name": "stdout",
     "output_type": "stream",
     "text": [
      "------------------------------\n",
      "C1: {'1', '10', '010', '1110'}\n",
      "S1: ['0', '110']\n",
      "paths: {'0': ['1', '10'], '110': ['1', '1110']}\n",
      "S2: ['10']\n",
      "paths: {'10': ['1', '1', '1110']}\n",
      "Halt 1\n",
      "\u001b[91m Code C1 is Not Uniquely Decodable.\n",
      "  Witness: ['10']\n",
      "Ambiguous sequence that proves not uniqueness: 111010\n",
      "  ['1 1 1 010', '1 1 10 10', '1110 10'] \u001b[0m\n"
     ]
    }
   ],
   "source": [
    "code = {\"10\", \"010\", \"1\", \"1110\"}\n",
    "name = \"C1\"\n",
    "print(\"-\" * len(f\"{name}: {code}\"))\n",
    "print(f\"{name}: {code}\")\n",
    "is_ud, seq1, intersection = is_uniquely_decodable(code, True)\n",
    "\n",
    "if not is_ud:\n",
    "    print(f\"{bcolors.FAIL} Code {name} is Not Uniquely Decodable.\")\n",
    "    print(f\"  Witness: {intersection}\")\n",
    "    print(f\"Ambiguous sequence that proves not uniqueness: {seq1}\")\n",
    "\n",
    "    print(f\"  {find_codings(code, seq1)} {bcolors.ENDC}\")\n",
    "else:\n",
    "    print(f\"{bcolors.OKGREEN} Code {name} is Uniquely Decodable. {bcolors.ENDC}\")"
   ]
  },
  {
   "cell_type": "code",
   "execution_count": 11,
   "metadata": {},
   "outputs": [
    {
     "name": "stdout",
     "output_type": "stream",
     "text": [
      "-----------------------------\n",
      "C2: {'11', '0', '001', '101'}\n",
      "S1: ['01']\n",
      "S2: ['1']\n",
      "S3: ['1', '01']\n",
      "S4: ['1', '01']\n",
      "Halt 3\n",
      "\u001b[92m Code C2 is Uniquely Decodable. \u001b[0m\n"
     ]
    }
   ],
   "source": [
    "code = {\"0\", \"001\", \"101\", \"11\"}\n",
    "name = \"C2\"\n",
    "print(\"-\" * len(f\"{name}: {code}\"))\n",
    "print(f\"{name}: {code}\")\n",
    "is_ud, seq1, intersection = is_uniquely_decodable(code)\n",
    "\n",
    "if not is_ud:\n",
    "    print(f\"{bcolors.FAIL} Code {name} is Not Uniquely Decodable.\")\n",
    "    print(f\"  Witness: {intersection}\")\n",
    "    print(f\"Ambiguous sequence that proves not uniqueness: {seq1}\")\n",
    "\n",
    "    print(f\"  {find_codings(code, seq1)} {bcolors.ENDC}\")\n",
    "else:\n",
    "    print(f\"{bcolors.OKGREEN} Code {name} is Uniquely Decodable. {bcolors.ENDC}\")"
   ]
  },
  {
   "cell_type": "code",
   "execution_count": 12,
   "metadata": {},
   "outputs": [
    {
     "name": "stdout",
     "output_type": "stream",
     "text": [
      "--------------------------------------------------\n",
      "C3: ['0', '2', '03', '011', '104', '341', '11234']\n",
      "S1: ['3', '11']\n",
      "S2: ['41', '234']\n",
      "S3: ['34']\n",
      "S4: ['1']\n",
      "S5: ['04', '1234']\n",
      "S6: ['4']\n",
      "S7: []\n",
      "Halt 2\n",
      "\u001b[92m Code C3 is Uniquely Decodable. \u001b[0m\n"
     ]
    }
   ],
   "source": [
    "code = {\"0\", \"2\", \"03\", \"011\", \"104\", \"341\", \"11234\"}\n",
    "name = \"C3\"\n",
    "print(\"-\" * len(f\"{name}: {code}\"))\n",
    "print(f\"{name}: {sort_set(code)}\")\n",
    "is_ud, seq1, intersection = is_uniquely_decodable(code)\n",
    "\n",
    "if not is_ud:\n",
    "    print(f\"{bcolors.FAIL} Code {name} is Not Uniquely Decodable.\")\n",
    "    print(f\"  Witness: {intersection}\")\n",
    "    print(f\"Ambiguous sequence that proves not uniqueness: {seq1}\")\n",
    "\n",
    "    print(f\"  {find_codings(code, seq1)} {bcolors.ENDC}\")\n",
    "else:\n",
    "    print(f\"{bcolors.OKGREEN} Code {name} is Uniquely Decodable. {bcolors.ENDC}\")"
   ]
  },
  {
   "cell_type": "code",
   "execution_count": 13,
   "metadata": {},
   "outputs": [
    {
     "name": "stdout",
     "output_type": "stream",
     "text": [
      "--------------------------------------------\n",
      "C4: ['01', '10', '000', '001', '100', '111']\n",
      "S1: ['0']\n",
      "S2: ['1', '00', '01']\n",
      "Halt 1\n",
      "\u001b[91m Code C4 is Not Uniquely Decodable.\n",
      "  Witness: ['01']\n",
      "Ambiguous sequence that proves not uniqueness: 10001\n",
      "  ['100 01', '10 001'] \u001b[0m\n"
     ]
    }
   ],
   "source": [
    "code = {\"01\", \"10\", \"001\", \"100\", \"000\", \"111\"}\n",
    "name = \"C4\"\n",
    "print(\"-\" * len(f\"{name}: {code}\"))\n",
    "print(f\"{name}: {sort_set(code)}\")\n",
    "is_ud, seq1, intersection = is_uniquely_decodable(code)\n",
    "\n",
    "if not is_ud:\n",
    "    print(f\"{bcolors.FAIL} Code {name} is Not Uniquely Decodable.\")\n",
    "    print(f\"  Witness: {intersection}\")\n",
    "    print(f\"Ambiguous sequence that proves not uniqueness: {seq1}\")\n",
    "\n",
    "    print(f\"  {find_codings(code, seq1)} {bcolors.ENDC}\")\n",
    "else:\n",
    "    print(f\"{bcolors.OKGREEN} Code {name} is Uniquely Decodable. {bcolors.ENDC}\")"
   ]
  },
  {
   "cell_type": "code",
   "execution_count": 14,
   "metadata": {},
   "outputs": [
    {
     "name": "stdout",
     "output_type": "stream",
     "text": [
      "------------------------------\n",
      "C5: ['0', '01', '011', '0111']\n",
      "S1: ['1', '11', '111']\n",
      "S2: []\n",
      "Halt 2\n",
      "\u001b[92m Code C5 is Uniquely Decodable. \u001b[0m\n"
     ]
    }
   ],
   "source": [
    "code = {\"0\", \"01\", \"011\", \"0111\"}\n",
    "name = \"C5\"\n",
    "print(\"-\" * len(f\"{name}: {code}\"))\n",
    "print(f\"{name}: {sort_set(code)}\")\n",
    "is_ud, seq1, intersection = is_uniquely_decodable(code)\n",
    "\n",
    "if not is_ud:\n",
    "    print(f\"{bcolors.FAIL} Code {name} is Not Uniquely Decodable.\")\n",
    "    print(f\"  Witness: {intersection}\")\n",
    "    print(f\"Ambiguous sequence that proves not uniqueness: {seq1}\")\n",
    "\n",
    "    print(f\"  {find_codings(code, seq1)} {bcolors.ENDC}\")\n",
    "else:\n",
    "    print(f\"{bcolors.OKGREEN} Code {name} is Uniquely Decodable. {bcolors.ENDC}\")\n"
   ]
  }
 ],
 "metadata": {
  "kernelspec": {
   "display_name": ".conda",
   "language": "python",
   "name": "python3"
  },
  "language_info": {
   "codemirror_mode": {
    "name": "ipython",
    "version": 3
   },
   "file_extension": ".py",
   "mimetype": "text/x-python",
   "name": "python",
   "nbconvert_exporter": "python",
   "pygments_lexer": "ipython3",
   "version": "3.10.11"
  }
 },
 "nbformat": 4,
 "nbformat_minor": 2
}
