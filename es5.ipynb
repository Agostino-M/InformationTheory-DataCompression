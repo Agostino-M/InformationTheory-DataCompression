{
 "cells": [
  {
   "cell_type": "code",
   "execution_count": 1,
   "metadata": {},
   "outputs": [],
   "source": [
    "import math\n",
    "from pprint import pprint\n",
    "from collections import Counter\n",
    "\n",
    "class bcolors:\n",
    "    HEADER = '\\033[95m'\n",
    "    OKBLUE = '\\033[94m'\n",
    "    OKCYAN = '\\033[96m'\n",
    "    OKGREEN = '\\033[92m'\n",
    "    WARNING = '\\033[93m'\n",
    "    FAIL = '\\033[91m'\n",
    "    ENDC = '\\033[0m'\n",
    "    BOLD = '\\033[1m'\n",
    "    UNDERLINE = '\\033[4m'"
   ]
  },
  {
   "cell_type": "markdown",
   "metadata": {},
   "source": [
    "## ES5\n",
    "### Write a program in a programming language of your choice that computes all the universal codes of integers we have studied (both encoding and decoding).\n",
    "\n",
    "### Plot for each n = 1, ... 1000 the lengths of the binary, gamma, delta, Fibonacci codes. Also consider the Rice encoding for k=5 and k=7\n",
    "\n",
    "### Report the statistics on the following experiments:\n",
    "- Number of bits required to encode 100 integers between 1 and 100,000 (Consider integers 1, 1011, 2021, ...)\n",
    "- Number of bits required to compress 100 random integers between 1 and 1000.\n",
    "- Number of bits required to encode a sequence of 1000 integers with a distribution chosen in advance"
   ]
  },
  {
   "cell_type": "markdown",
   "metadata": {},
   "source": [
    "### Gamma encoding/decoding\n",
    "Given an integer x≥1, the code 𝛾 𝑥 is a binary sequence composed of\n",
    "two parts:\n",
    "- a sequence of 𝐵 𝑥 − 1 zeroes\n",
    "- the binary representation 𝐵(𝑥) of 𝑥."
   ]
  },
  {
   "cell_type": "code",
   "execution_count": 2,
   "metadata": {},
   "outputs": [
    {
     "name": "stdout",
     "output_type": "stream",
     "text": [
      "Gamma encode: 0001000\n",
      "Gamma decode: 8\n"
     ]
    }
   ],
   "source": [
    "def gamma_decoding(binary_str: str) -> int:\n",
    "    # Count the number N of leading zeros\n",
    "    N = 0\n",
    "    for c in binary_str:\n",
    "        if c == \"0\":\n",
    "            N += 1\n",
    "        else:\n",
    "            break\n",
    "\n",
    "    # The number is represented by the N+1 bits starting after the zeros\n",
    "    return int(binary_str[N:], 2)\n",
    "\n",
    "\n",
    "def gamma_encoding(x: int) -> str:\n",
    "    if x < 1:\n",
    "        raise ValueError(\"Error, x must be >= 1\")\n",
    "\n",
    "    # N is the number of '0's, which is floor(log2(x))\n",
    "    # N = |B(x)| - 1\n",
    "    N = math.floor(math.log2(x))\n",
    "\n",
    "    # Binary representation of x without the '0b' prefix\n",
    "    binary_x = bin(x)[2:]\n",
    "\n",
    "    # Gamma code consists of N '0's followed by the binary representation of x\n",
    "    return \"0\" * N + binary_x\n",
    "\n",
    "\n",
    "x = 8\n",
    "enc = gamma_encoding(x)\n",
    "print(\"Gamma encode: \" + enc)\n",
    "\n",
    "dec = gamma_decoding(enc)\n",
    "print(\"Gamma decode: \" + str(dec))"
   ]
  },
  {
   "cell_type": "markdown",
   "metadata": {},
   "source": [
    "### Delta encoding/decoding\n",
    "Given an integer x≥1, the code 𝛿 𝑥 is a binary sequence composed of\n",
    "two parts:\n",
    "- 𝛾( 𝐵 𝑥 )\n",
    "- the binary representation 𝐵(𝑥) of 𝑥, the most significant bit excluded."
   ]
  },
  {
   "cell_type": "code",
   "execution_count": 4,
   "metadata": {},
   "outputs": [
    {
     "name": "stdout",
     "output_type": "stream",
     "text": [
      "Delta encode: 00100110\n",
      "Delta decode: 14\n"
     ]
    }
   ],
   "source": [
    "def delta_encoding(x: int) -> str:\n",
    "    # Calculate N as in Gamma Encoding\n",
    "    N = math.floor(math.log2(x))\n",
    "\n",
    "    # First part of the output is the Gamma Encoding of 'N + 1'\n",
    "    output = gamma_encoding(N + 1)\n",
    "\n",
    "    # Append the binary representation of x without its MSB\n",
    "    output += bin(x)[3:]\n",
    "\n",
    "    return output\n",
    "\n",
    "\n",
    "def delta_decoding(binary_str: str) -> int:\n",
    "    # Count the leading '0' bits before the first '1'\n",
    "    N = 0\n",
    "    for b in binary_str:\n",
    "        if b == \"0\":\n",
    "            N += 1\n",
    "        else:\n",
    "            break\n",
    "\n",
    "    # Extract the binary string starting from the first '1' after the leading zeros\n",
    "    new_bin = binary_str[N:]\n",
    "\n",
    "    # Extract the remaining bits after the initial 'N + 1' bits\n",
    "    final_bin = new_bin[N + 1 :]\n",
    "\n",
    "    # Return the integer value by concatenating '1' and the remaining bits\n",
    "    return int(\"1\" + final_bin, base=2)\n",
    "\n",
    "\n",
    "x = 14\n",
    "enc = delta_encoding(x)\n",
    "print(\"Delta encode: \" + enc)\n",
    "\n",
    "dec = delta_decoding(enc)\n",
    "print(\"Delta decode: \" + str(dec))"
   ]
  },
  {
   "cell_type": "markdown",
   "metadata": {},
   "source": [
    "### Fibonacci encode/decode\n",
    "Given a number N>0, the correspondent Fibonacci codeword is defined\n",
    "as\n",
    "𝑑0𝑑1𝑑2… 𝑑𝑘−1 𝑑𝑘\n",
    "\n",
    "if N=σ𝑖=0 𝑘−1 𝑑𝑖𝐹 𝑖+2 e 𝑑𝑘−1= 𝑑𝑘 = 1."
   ]
  },
  {
   "cell_type": "code",
   "execution_count": 7,
   "metadata": {},
   "outputs": [
    {
     "name": "stdout",
     "output_type": "stream",
     "text": [
      "Fibonacci encode: 01011\n",
      "Fibonacci decode: 7\n"
     ]
    }
   ],
   "source": [
    "def __get_fib_sequence(x: int) -> list:\n",
    "    # Initialize Fibonacci list with the first two numbers\n",
    "    fib_list = [0, 1]\n",
    "    i = 1\n",
    "\n",
    "    # Create the Fibonacci list until the last Fibonacci number is less than or equal to x\n",
    "    while fib_list[i] + fib_list[i - 1] <= x:\n",
    "        fib_list.append(fib_list[i] + fib_list[i - 1])\n",
    "        i += 1\n",
    "\n",
    "    return fib_list[2:]\n",
    "\n",
    "\n",
    "def __gen_fibonacci_until_n(n: int) -> list:\n",
    "    # Generate the first n Fibonacci numbers\n",
    "    a, b = 0, 1\n",
    "    fib_list = [a]\n",
    "\n",
    "    for _ in range(n):\n",
    "        a, b = b, a + b\n",
    "        fib_list.append(a)\n",
    "\n",
    "    return fib_list\n",
    "\n",
    "\n",
    "def fibonacci_encoding(x: int) -> str:\n",
    "    # Generate the Fibonacci sequence up to the upper bound x\n",
    "    fib_sequence = __get_fib_sequence(x)\n",
    "    encoding = [\"0\"] * len(fib_sequence)\n",
    "\n",
    "    # Encode x using Zeckendorf representation\n",
    "    while x > 0:\n",
    "        # Filter the Fibonacci sequence to get the relevant numbers <= x\n",
    "        # print(\"before:\", fib_sequence)\n",
    "        fib_sequence = [item for item in fib_sequence if item <= x]\n",
    "        # print(\"after:\", fib_sequence)\n",
    "\n",
    "        # Find the largest Fibonacci number <= x\n",
    "        largest_fib = max(fib_sequence)\n",
    "        # print(largest_fib)\n",
    "        x -= largest_fib\n",
    "        # print(x)\n",
    "\n",
    "        # Find the index of the largest Fibonacci number\n",
    "        i = fib_sequence.index(largest_fib)\n",
    "\n",
    "        # Set the corresponding bit in the encoding to '1'\n",
    "        encoding[i] = \"1\"\n",
    "        # print(encoding)\n",
    "\n",
    "    # Append the terminating '1' to the encoding\n",
    "    encoding.append(\"1\")\n",
    "\n",
    "    return \"\".join(encoding)\n",
    "\n",
    "\n",
    "def fibonacci_decoding(bin_str: str) -> int:\n",
    "    # Remove the last '1' from the binary string (LSB)\n",
    "    bin_str = bin_str[:-1]\n",
    "    output = 0\n",
    "\n",
    "    # Start from the third Fibonacci number (corresponding to the Zeckendorf representation)\n",
    "    pos = 2\n",
    "\n",
    "    # Generate the Fibonacci sequence with length equal to the binary string\n",
    "    fibonacci_sequence = __gen_fibonacci_until_n(len(bin_str) + 1)\n",
    "\n",
    "    # Decode the binary string using the Fibonacci sequence\n",
    "    for bit in bin_str:\n",
    "        if bit == \"1\":\n",
    "            output += fibonacci_sequence[pos]\n",
    "        pos += 1\n",
    "\n",
    "    return output\n",
    "\n",
    "\n",
    "x = 7\n",
    "enc = fibonacci_encoding(x)\n",
    "print(\"Fibonacci encode: \" + enc)\n",
    "\n",
    "dec = fibonacci_decoding(enc)\n",
    "print(\"Fibonacci decode: \" + str(dec))"
   ]
  },
  {
   "cell_type": "markdown",
   "metadata": {},
   "source": [
    "### Rice code encoding/decoding"
   ]
  },
  {
   "cell_type": "code",
   "execution_count": 13,
   "metadata": {},
   "outputs": [
    {
     "name": "stdout",
     "output_type": "stream",
     "text": [
      "Rice encode: 0000010010\n",
      "Rice decode: 83\n"
     ]
    }
   ],
   "source": [
    "def rice_code_encoding(x: int, k: int) -> str:\n",
    "    # Compute the quotient as the floor of (x - 1) divided by 2^k\n",
    "    q = math.floor((x - 1) / pow(2, k))\n",
    "    # print(q)\n",
    "\n",
    "    # Compute the remainder as the difference between x and (2^k * q + 1)\n",
    "    r = x - pow(2, k) * q - 1\n",
    "    # print(r)\n",
    "\n",
    "    # Write the first part of the codeword as a unary string of 'q'\n",
    "    unary_prefix = \"0\" * q + \"1\"\n",
    "\n",
    "    # Concatenate the binary representation of 'r', padded with leading zeros to make it 'k' bits long\n",
    "    suffix = bin(r)[2:].zfill(k)\n",
    "\n",
    "    return unary_prefix + suffix\n",
    "\n",
    "\n",
    "def rice_code_decoding(bin_str: str, k: int) -> int:\n",
    "    q = 0\n",
    "\n",
    "    # Calculate the quotient by counting the number of '0' bits before the first '1'\n",
    "    for b in bin_str:\n",
    "        if b == \"1\":\n",
    "            break\n",
    "        q += 1\n",
    "\n",
    "    # Calculate the remainder by converting the binary string after the unary quotient to an integer\n",
    "    r = int(bin_str[q + 1 :], base=2)\n",
    "\n",
    "    # Use the remainder and quotient to compute the original number 'x'\n",
    "    return r + pow(2, k) * q + 1\n",
    "\n",
    "\n",
    "x = 83\n",
    "k = 4\n",
    "\n",
    "enc = rice_code_encoding(x, k)\n",
    "print(\"Rice encode: \" + enc)\n",
    "\n",
    "dec = rice_code_decoding(enc, k)\n",
    "print(\"Rice decode: \" + str(dec))"
   ]
  },
  {
   "cell_type": "markdown",
   "metadata": {},
   "source": [
    "### Analysis"
   ]
  },
  {
   "cell_type": "code",
   "execution_count": 9,
   "metadata": {},
   "outputs": [
    {
     "data": {
      "image/png": "[encoded data removed]",
      "text/plain": [
       "<Figure size 640x480 with 1 Axes>"
      ]
     },
     "metadata": {},
     "output_type": "display_data"
    },
    {
     "name": "stdout",
     "output_type": "stream",
     "text": [
      "\u001b[92mNumber of bits required to encode 100 integers between 1 and 100,000\u001b[0m\n",
      "Gamma \t Mean: 30.14\tNumber of Bits: 3014\n",
      "Delta \t Mean: 22.85\tNumber of Bits: 2285\n",
      "Fib \t Mean: 22.90\tNumber of Bits: 2290\n",
      "Rice_5 \t Mean: 1567.88\tNumber of Bits: 156788\n",
      "Rice_7 \t Mean: 398.10\tNumber of Bits: 39810\n",
      "Binary \t Mean: 15.57\tNumber of Bits: 1557\n",
      "\n",
      "\u001b[92mNumber of bits required to compress 100 random integers between 1 and 1000\u001b[0m\n",
      "Gamma \t Mean: 46.70\tNumber of Bits: 4670\n",
      "Delta \t Mean: 37.29\tNumber of Bits: 3729\n",
      "Fib \t Mean: 36.03\tNumber of Bits: 3603\n",
      "Rice_5 \t Mean: 1588.07\tNumber of Bits: 158807\n",
      "Rice_7 \t Mean: 409.27\tNumber of Bits: 40927\n",
      "Binary \t Mean: 24.35\tNumber of Bits: 2435\n",
      "\n",
      "\u001b[92mNumber of bits required to encode a sequence of 1000 integers with a normal distribution\u001b[0m\n",
      "Gamma \t Mean: 6.03\tNumber of Bits: 6034\n",
      "Delta \t Mean: 5.28\tNumber of Bits: 5275\n",
      "Fib \t Mean: 5.80\tNumber of Bits: 5803\n",
      "Rice_5 \t Mean: 164.81\tNumber of Bits: 164807\n",
      "Rice_7 \t Mean: 48.93\tNumber of Bits: 48927\n",
      "Binary \t Mean: 3.62\tNumber of Bits: 3617\n"
     ]
    },
    {
     "data": {
      "image/png": "[encoded data removed]",
      "text/plain": [
       "<Figure size 640x480 with 1 Axes>"
      ]
     },
     "metadata": {},
     "output_type": "display_data"
    }
   ],
   "source": [
    "import numpy as np\n",
    "import matplotlib.pyplot as plt\n",
    "import random\n",
    "import math\n",
    "\n",
    "\n",
    "def plot_len_stats(upper_bound: int):\n",
    "    x_axis = np.arange(upper_bound)\n",
    "    gamma_axis = np.zeros(upper_bound)\n",
    "    delta_axis = np.zeros(upper_bound)\n",
    "    fibonacci_axis = np.zeros(upper_bound)\n",
    "    rice_5_axis = np.zeros(upper_bound)\n",
    "    rice_7_axis = np.zeros(upper_bound)\n",
    "\n",
    "    for n in range(1, upper_bound):\n",
    "        gamma_axis[n] = len(gamma_encoding(n))\n",
    "        delta_axis[n] = len(delta_encoding(n))\n",
    "        fibonacci_axis[n] = len(fibonacci_encoding(n))\n",
    "        rice_5_axis[n] = len(rice_code_encoding(n, 5))\n",
    "        rice_7_axis[n] = len(rice_code_encoding(n, 7))\n",
    "\n",
    "    plt.plot(x_axis, gamma_axis, c=\"blue\", label=\"Gamma\")\n",
    "    plt.plot(x_axis, delta_axis, c=\"green\", label=\"Delta\")\n",
    "    plt.plot(x_axis, fibonacci_axis, c=\"red\", label=\"Fibonacci\")\n",
    "    plt.plot(x_axis, rice_5_axis, c=\"purple\", label=\"Rice_5\")\n",
    "    plt.plot(x_axis, rice_7_axis, c=\"brown\", label=\"Rice_7\")\n",
    "    plt.legend()\n",
    "    plt.ylabel(\"Number of Bits\")\n",
    "    plt.xlabel(\"Integer Value\")\n",
    "    plt.title(\"Encoding Length per Algorithm\")\n",
    "    plt.show()\n",
    "\n",
    "\n",
    "def compute_and_print_statistics(n: int, upper_bound: int):\n",
    "    algorithms = [\"Gamma\", \"Delta\", \"Fib\", \"Rice_5\", \"Rice_7\", \"Binary\"]\n",
    "    length = [0] * len(algorithms)\n",
    "    mean = [0] * len(algorithms)\n",
    "\n",
    "    # For integers in range [1-100000]\n",
    "    print(f\"{bcolors.OKGREEN}Number of bits required to encode 100 integers between 1 and 100,000{bcolors.ENDC}\")\n",
    "    for x in range(1, upper_bound, 1010):\n",
    "        length[0] += len(gamma_encoding(x))\n",
    "        length[1] += len(delta_encoding(x))\n",
    "        length[2] += len(fibonacci_encoding(x))\n",
    "        length[3] += len(rice_code_encoding(x, 5))\n",
    "        length[4] += len(rice_code_encoding(x, 7))\n",
    "        length[5] += len(bin(x)[2:])\n",
    "\n",
    "    for i in range(len(mean)):\n",
    "        mean[i] = length[i] / n\n",
    "\n",
    "    for i in range(len(mean)):\n",
    "        print(f\"{algorithms[i]} \\t Mean: {mean[i]:.2f}\\tNumber of Bits: {length[i]}\")\n",
    "\n",
    "    # For random integers [1-1000]\n",
    "    upper_bound = 100\n",
    "    print(f\"\\n{bcolors.OKGREEN}Number of bits required to compress 100 random integers between 1 and 1000{bcolors.ENDC}\")\n",
    "    for _ in range(upper_bound):\n",
    "        x = random.randint(1, 1000)\n",
    "        length[0] += len(gamma_encoding(x))\n",
    "        length[1] += len(delta_encoding(x))\n",
    "        length[2] += len(fibonacci_encoding(x))\n",
    "        length[3] += len(rice_code_encoding(x, 5))\n",
    "        length[4] += len(rice_code_encoding(x, 7))\n",
    "        length[5] += len(bin(x)[2:])\n",
    "\n",
    "    for i in range(len(mean)):\n",
    "        mean[i] = length[i] / upper_bound\n",
    "\n",
    "    for i in range(len(mean)):\n",
    "        print(f\"{algorithms[i]} \\t Mean: {mean[i]:.2f}\\tNumber of Bits: {length[i]}\")\n",
    "\n",
    "    # For normal distribution\n",
    "    upper_bound = 1000\n",
    "    print(f\"\\n{bcolors.OKGREEN}Number of bits required to encode a sequence of 1000 integers with a normal distribution{bcolors.ENDC}\")\n",
    "    numbers = [math.ceil(np.random.normal()) for _ in range(upper_bound)]\n",
    "\n",
    "    for n in numbers:\n",
    "        if n < 0:\n",
    "            n = -n\n",
    "        elif n == 0:\n",
    "            n = 1\n",
    "        length[0] += len(gamma_encoding(n))\n",
    "        length[1] += len(delta_encoding(n))\n",
    "        length[2] += len(fibonacci_encoding(n))\n",
    "        length[3] += len(rice_code_encoding(n, 5))\n",
    "        length[4] += len(rice_code_encoding(n, 7))\n",
    "        length[5] += len(bin(n)[2:])\n",
    "\n",
    "    for i in range(len(mean)):\n",
    "        mean[i] = length[i] / upper_bound\n",
    "\n",
    "    for i in range(len(mean)):\n",
    "        print(f\"{algorithms[i]} \\t Mean: {mean[i]:.2f}\\tNumber of Bits: {length[i]}\")\n",
    "\n",
    "    # Bar plot for average bit lengths\n",
    "    n_bars = np.arange(len(algorithms))\n",
    "    plt.bar(n_bars, length, align=\"center\")\n",
    "    plt.xticks(n_bars, algorithms)\n",
    "    plt.ylabel(\"Number of Bits\")\n",
    "    plt.xlabel(\"Algorithm\")\n",
    "    plt.title(\"Bits per Algorithm\")\n",
    "    plt.show()\n",
    "\n",
    "plot_len_stats(1001)\n",
    "compute_and_print_statistics(100, 100000)"
   ]
  },
  {
   "cell_type": "markdown",
   "metadata": {},
   "source": [
    "### Esperimento 1: lunghezza di codifica per ogni valore n\n",
    "Il primo grafico mostra chiaramente che Gamma, Delta e Fibonacci sono più efficienti per numeri piccoli,  \n",
    "mentre le codifiche di Rice possono essere più vantaggiose a seconda del valore scelto per k"
   ]
  },
  {
   "cell_type": "markdown",
   "metadata": {},
   "source": [
    "### Esperimento 2: Compressione di 100 numeri casuali tra 1 e 1000\n",
    "Binary risulta essere il migliore con media 24.35\n",
    "Delta e Fibonacci mostrano buone performance 22.85 e 22.90 rispettivamente\n",
    "Gamma richiede più bit rispetto a Delta e Fibonacci (30.14 in media).\n",
    "Rice(5) e Rice(7) sono altamente inefficienti"
   ]
  },
  {
   "cell_type": "markdown",
   "metadata": {},
   "source": [
    "### Esperimento 3: Encoding di 1000 numeri con una distribuzione normale\n",
    "Binary continua a essere il più efficiente con media 3.62\n",
    "Gamma, Delta e Fibonacci offrono una buona compressione (6.03, 5.27 e 5.8 bit in media)\n",
    "Rice(5) e Rice(7) rimangono inefficaci (164807 e 48927 bit totali)"
   ]
  }
 ],
 "metadata": {
  "kernelspec": {
   "display_name": ".conda",
   "language": "python",
   "name": "python3"
  },
  "language_info": {
   "codemirror_mode": {
    "name": "ipython",
    "version": 3
   },
   "file_extension": ".py",
   "mimetype": "text/x-python",
   "name": "python",
   "nbconvert_exporter": "python",
   "pygments_lexer": "ipython3",
   "version": "3.10.11"
  }
 },
 "nbformat": 4,
 "nbformat_minor": 2
}
